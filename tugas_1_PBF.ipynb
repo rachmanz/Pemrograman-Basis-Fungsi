{
 "cells": [
  {
   "cell_type": "markdown",
   "id": "f31a1b97-5c3d-4369-aa22-c07d18fe2dee",
   "metadata": {},
   "source": [
    "# **Tugas 1 Pemrograman Basis Fungsi** \n",
    "Nama : Abdurrahman Al-atsary <br>\n",
    "NIM : 121450128 <br> \n",
    "Kelas : RC"
   ]
  },
  {
   "cell_type": "markdown",
   "id": "ae88cbb9-bb59-4017-bd9c-df643baf870a",
   "metadata": {
    "jp-MarkdownHeadingCollapsed": true,
    "tags": []
   },
   "source": [
    "## ***Soal 1***\n",
    "\n",
    "Jelaskan menggunakan tabel mengenai kelebihan dan kekurangan paradigma procedural dibandingkan dengan object orented (minimal 3) ! "
   ]
  },
  {
   "cell_type": "markdown",
   "id": "34955239-4a6e-4aa6-b792-32cd0287198e",
   "metadata": {
    "jp-MarkdownHeadingCollapsed": true,
    "tags": []
   },
   "source": [
    "### ***Jawab***"
   ]
  },
  {
   "cell_type": "markdown",
   "id": "f83bec90-887a-43fb-ad9d-eaf4483759dd",
   "metadata": {
    "tags": []
   },
   "source": [
    "<h4 style=\"text-align: center; font-weight : Bold;\">Kelebihan</h4>\n",
    "<br>\n",
    "\n",
    "\n",
    "|Paradigma Procedural|OOP|\n",
    "|---|---|\n",
    "Penulisan program yang sederhana dan terstruktur | Penulisan program terkesan lebih kompleks| \n",
    "Penggunaan memory lebih sedikit dibandingkan dengan OOP | Penggunaan memori lebih besar dikarenakan runtime juga bekerja lebih extra jika tanpa optimasi.| \n",
    "Memiliki logika/source code yang mudah dipahami | Memiliki source code yang agak rumit untuk dipahami bagi pemula. |\n",
    "\n",
    "<br>\n",
    "\n",
    "<h4 style=\"text-align: center; font-weight : Bold;\">Kekurangan</h4>\n",
    "\n",
    "|Paradigma Procedural|OOP|\n",
    "|---|---|\n",
    "Dukungan yang terbatas | Dukungan yang besar dalam pengembangan project | \n",
    "Fungsi yang tersedia susah untuk diubah dan mempengaruhi sistem secara keseluruhan | Fungsi yang tersedia jika diubah tidak akan mempengaruhi sistem / aplikasi secara keseluruhan.| \n",
    "Program yang cukup sulit untuk proses perawatan | Program yang memasukan OOP akan lebih mudah dalam perawatan (maintanace) |\n",
    "Kurang aman dibandingkan dengan OOP | Lebih Aman dibandingkan dengan prosedural | "
   ]
  },
  {
   "cell_type": "markdown",
   "id": "6d7fdbce-1d30-411a-8962-2368087a7406",
   "metadata": {
    "jp-MarkdownHeadingCollapsed": true,
    "tags": []
   },
   "source": [
    "## ***Soal 2***\n",
    "Jelaskan menggunakan tabel megenai kelebihan dan kekurangan paradigma object oriented dibandingkan dengan functional (minimal 3) !"
   ]
  },
  {
   "cell_type": "markdown",
   "id": "408f51a9-0f50-4b43-a732-3cf0735fe659",
   "metadata": {
    "tags": []
   },
   "source": [
    "### ***Jawab***"
   ]
  },
  {
   "cell_type": "markdown",
   "id": "5a21c75b-d3ee-4138-afc1-6ed83fc8c193",
   "metadata": {},
   "source": [
    "<h4 style=\"text-align: center; font-weight : Bold;\">Kelebihan</h4>\n",
    "\n",
    "|OOP|Paradigma Functional|\n",
    "|---|---|\n",
    "Memiliki 3 penentu akses : Public, Private, Protected | Tidak memiliki penentu akses| \n",
    "Mudah menambahkan fungsi dan data baru | Tidak mudah menambahkan fungsi dan data baru.| \n",
    "Menyediakan penyembunyian data maka dari itu program yang aman dimungkinkan | Tidak menyediakan penyembunyian data, keamanan tidak dimungkinkan |\n",
    "\n",
    "<br>\n",
    "<h4 style=\"text-align: center; font-weight : Bold;\">Kekurangan</h4>\n",
    "\n",
    "|OOP|Paradigma Fungsional|\n",
    "|---|---|\n",
    "Runtime sangat lambat tanpa dibarengi dengan optimasi | Runtime lebih cepat dibandingkan dengan OOP | \n",
    "Penulisan program jauh lebih kompleks dibandingkan dengan Functional | Penulisan program masih dibawah kompleks dari OOP| \n",
    "Tidak memperbolehkan implementasi yang kuat pada reuse | Memperbolehkan implementasi pada reuse selama fungsi dapat di akses |\n"
   ]
  },
  {
   "cell_type": "markdown",
   "id": "54d4ee84-eacd-422a-bbd6-5ff2504005bc",
   "metadata": {
    "jp-MarkdownHeadingCollapsed": true,
    "tags": []
   },
   "source": [
    "## ***Soal 3***\n",
    "Jelaskan menggunakan tabel mengenai kelebihan dan kekurangan paradigma prosedural dibandingkan dengan functional (minimal 3) ! "
   ]
  },
  {
   "cell_type": "markdown",
   "id": "e0b61d5f-3f80-4ab3-8664-07eda6981bab",
   "metadata": {
    "tags": []
   },
   "source": [
    "### ***Jawab***"
   ]
  },
  {
   "cell_type": "markdown",
   "id": "667e3462-51d8-4b35-a7e8-374a4e1019c6",
   "metadata": {},
   "source": [
    "<h4 style=\"text-align: center; font-weight : Bold;\">Kelebihan</h4>\n",
    "\n",
    "|Paradigma Procedural|Paradigma Fungsional|\n",
    "|:---:|:---:|\n",
    "Source code dapat dipahami dengan mudah  | Terkadang source code harus teliti dalam membacanya | \n",
    "Penggunaan memori lebih sedikit karna sederhana | Penggunaan memori sedikit lebih banyak karna harus mengakses fungsi | \n",
    "Code dapat ditemukan dengan mudah ketika ditemukan bug (kelemahan) dan mudah untuk diperbaiki | Code terlihat akan rumit menemukan bug dan harus mencari dengan teliti dan solusinya akan lebih rumit diperbaiki |\n",
    "\n",
    "<br>\n",
    "<h4 style=\"text-align: center; font-weight : Bold;\">Kekurangan</h4>\n",
    "\n",
    "|Paradigma Procedural|Paradigma Fungsional|\n",
    "|---|---|\n",
    "Cenderung menekankan peneraan solusi secara linear | Lebih menekankan solusi secara variatif | \n",
    "Eksekusi (runtime) secara berlebihan akan menyebabkan efek pada program | Eksekusi (runtime) yang berulang tidak akan mempengaruhi program | \n",
    "Dilakukan evaluasi pada urutan tertentu / spesifik | Tidak dilakukan evaluasi secara spesifik |"
   ]
  },
  {
   "cell_type": "markdown",
   "id": "cb290a3d-dd33-4d70-86f0-d749b9964151",
   "metadata": {
    "jp-MarkdownHeadingCollapsed": true,
    "tags": []
   },
   "source": [
    "## ***Soal 4***\n",
    "Apa yang dimaksud dengan pure functional programming languange ?"
   ]
  },
  {
   "cell_type": "markdown",
   "id": "c2f706fa-e7a8-4a18-921f-47748af7432b",
   "metadata": {
    "jp-MarkdownHeadingCollapsed": true,
    "tags": []
   },
   "source": [
    "### ***Jawab***"
   ]
  },
  {
   "cell_type": "markdown",
   "id": "80fe259c-2604-4112-bd6f-275d4f65bbcb",
   "metadata": {},
   "source": [
    "Bahasa pemrograman yang memperlakukan seluruh programs sebagai fungsi murni dan menangani semata-mata melalui interaksi dengan runtime"
   ]
  },
  {
   "cell_type": "markdown",
   "id": "2186f334-9c5a-43a0-bc6f-83b788a9bc31",
   "metadata": {
    "jp-MarkdownHeadingCollapsed": true,
    "tags": []
   },
   "source": [
    "## ***Soal 5***\n",
    "Dari bahasa pemrograman FP di slide sebelumnya (slide 14), manakah yang termasuk pure functional programming languange ?"
   ]
  },
  {
   "cell_type": "markdown",
   "id": "fb62fe7f-eebf-4f83-814a-50d3f27aaf76",
   "metadata": {},
   "source": [
    "### ***Jawab***"
   ]
  },
  {
   "cell_type": "markdown",
   "id": "14c494ee-ff1b-4720-aa35-406bf136dd0f",
   "metadata": {},
   "source": [
    "**Haskell** merupakan pure functional programming languange."
   ]
  },
  {
   "cell_type": "markdown",
   "id": "c2c35727-95be-45a2-906c-4b2a6e7a009f",
   "metadata": {},
   "source": [
    "<h2 style = \"text-align : center; font-weight:bold;\"> Simple Password encryption </h2>\n",
    "<br>\n",
    "Seorang user dari sebuah website ingin meningkatkan security dari password yang dia miliki dengan metode mengubah password nya menjadi bentuk lain dengan beberapa aturan enkripsi sebagai berikut: \n",
    "\n",
    "1. Input password bertipe string dengan batasan panjang password 100 karakter \n",
    "2. Setiap karakter dari string tersebut diubah menjadi ASCII value \n",
    "3. Kemudian setiap ASCII value tersebut dikembangkan menjadi 3 value dengan dilakukan operasi berikut: <br>\n",
    "    a. Value pertama dibagi dengan integer 26 kemudian dibulatkan dan dijumlahkan dengan 80 kemudian diubah kembali menjadi karakter <br>\n",
    "    b. Value kedua dihitung sisa bagi dengan 26 kemudian dijumlahkan dengan 80 kemudian diubah kembali menjadi karakter <br>\n",
    "    c. Value ketiga adalah karakter ‘+’ jika value pertama lebih besar dari value kedua, atau value ketiga adalah karakter ‘-’ jika value pertama tidak lebih besar dari value kedua \n",
    "4. Deretkan value pertama, kedua dan ketiga untuk setiap karakter dalam password tersebut sehingga didapatkan password dalam bentuk baru\n"
   ]
  },
  {
   "cell_type": "markdown",
   "id": "101da143-dcc3-46d0-bcc5-40b2e64e8220",
   "metadata": {
    "tags": []
   },
   "source": [
    "### ***Soal 1***\n",
    "Bantulah user tersebut dengan membuatkan sebuah program yang secara otomatis mengubah password yang di input menjadi terenkripsi sesuai aturan tersebut! "
   ]
  },
  {
   "cell_type": "markdown",
   "id": "8b525e9b-fbc1-4e61-bb6e-435e42863d89",
   "metadata": {
    "tags": []
   },
   "source": [
    "#### ***Jawab***\n"
   ]
  },
  {
   "cell_type": "code",
   "execution_count": 17,
   "id": "e3020c2e-88b6-44a7-86aa-50987769d009",
   "metadata": {},
   "outputs": [],
   "source": [
    "# Dengan metode paradigma fungsional \n",
    "\n",
    "def encrypt(passwd):\n",
    "    # Jika panjang lebih lebih dari 100 atau 0 \n",
    "    if len(passwd) == 0 or len(passwd) > 100:\n",
    "        print(\"Maaf masukan password dengan benar (dengan rentang 1 - 100)\")\n",
    "    else : \n",
    "        change_ascii = [str(ord(i)) for i in passwd]\n",
    "        # Menerapkan 3 value pada kode ascii yang telah ditentukan\n",
    "        open_decrypt = ''.join(chr((int(j)//26)+80)+chr((int(j)%26)+80)+('+' if (int(j)//26)+80 > (int(j)%26)+80 else '-') for j in change_ascii)\n",
    "        # menampilkan hasil enkripsi\n",
    "        print(\"Passwordnya adalah :  \", open_decrypt)\n",
    "\n",
    "def decrypt(passwd):\n",
    "    # split 3 value Password\n",
    "    pswd_split = [(passwd[k:k+3]) for k in range(0, len(passwd), 3)]\n",
    "    # Mengubah 3 value kembali ke kode ascii lalu ke karakter asli dan menggabungkan semuanya\n",
    "    open_encrypt = ''.join(chr(((ord(list(z)[0])-80)*26)+(ord(list(z)[1])-80)) for z in pswd_split)\n",
    "    # Hasil dekripsi\n",
    "    print(\"Passwordnya adalah :  \", open_encrypt)"
   ]
  },
  {
   "cell_type": "markdown",
   "id": "1aa06566-0b67-46ca-a384-a4b5de162975",
   "metadata": {
    "tags": []
   },
   "source": [
    "### ***Soal 2***\n",
    "Apa output yang dihasilkan dari program tersebut jika input password adalah ‘anakanakcerdas2020’? "
   ]
  },
  {
   "cell_type": "markdown",
   "id": "5b99822a-b428-4fa7-a68b-fe4492a38b04",
   "metadata": {
    "tags": []
   },
   "source": [
    "#### ***Jawab***"
   ]
  },
  {
   "cell_type": "code",
   "execution_count": 15,
   "id": "20a89cd3-d8f4-42c7-9149-7ae648b01650",
   "metadata": {},
   "outputs": [
    {
     "name": "stdin",
     "output_type": "stream",
     "text": [
      "Masukan password Anda :  anakanakcerdas2020\n"
     ]
    },
    {
     "name": "stdout",
     "output_type": "stream",
     "text": [
      "The encryption password is:  Sc-TV-Sc-TS+Sc-TV-Sc-TS+Se-Sg-TZ-Sf-Sc-T[-Qh-Qf-Qh-Qf-\n"
     ]
    }
   ],
   "source": [
    "usr_input = input(\"Masukan password Anda : \")\n",
    "encrypt(usr_input)"
   ]
  },
  {
   "cell_type": "markdown",
   "id": "4418b5a9-714c-4172-ab24-1ce5a59ce602",
   "metadata": {},
   "source": [
    "### ***Soal 3***\n",
    "___(Bonus)___ User tersebut lupa password asli yang dia inputkan ke dalam program tersebut, password setelah dienkripsi adalah ‘Sc-TV-Sc-TS+T[-Sc-TQ+TV-T[-Sf-Sc-T\\-Sc-Qh-Qf-Qh-Qf-TS+Sg-Se-Sg-’. Bantulah user tersebut mendapatkan password asli nya!"
   ]
  },
  {
   "cell_type": "markdown",
   "id": "76cd1068-f12d-4829-a57a-685c53a94ecb",
   "metadata": {},
   "source": [
    "#### ***Jawab***"
   ]
  },
  {
   "cell_type": "code",
   "execution_count": 19,
   "id": "76ef3584-5fd6-497c-9b01-6db9fe99d8a5",
   "metadata": {},
   "outputs": [
    {
     "name": "stdin",
     "output_type": "stream",
     "text": [
      "Masukan password yang Anda ingin pecahkan :  Sc-TV-Sc-TS+T[-Sc-TQ+TV-T[-Sf-Sc-T\\-Sc-Qh-Qf-Qh-Qf-TS+Sg-Se-Sg-\n"
     ]
    },
    {
     "name": "stdout",
     "output_type": "stream",
     "text": [
      "The password is:  anaksainsdata2020kece\n"
     ]
    }
   ],
   "source": [
    "usr_input = input(\"Masukan password yang Anda ingin pecahkan : \")\n",
    "decrypt(usr_input)"
   ]
  }
 ],
 "metadata": {
  "kernelspec": {
   "display_name": "Python 3 (ipykernel)",
   "language": "python",
   "name": "python3"
  },
  "language_info": {
   "codemirror_mode": {
    "name": "ipython",
    "version": 3
   },
   "file_extension": ".py",
   "mimetype": "text/x-python",
   "name": "python",
   "nbconvert_exporter": "python",
   "pygments_lexer": "ipython3",
   "version": "3.9.15"
  }
 },
 "nbformat": 4,
 "nbformat_minor": 5
}
